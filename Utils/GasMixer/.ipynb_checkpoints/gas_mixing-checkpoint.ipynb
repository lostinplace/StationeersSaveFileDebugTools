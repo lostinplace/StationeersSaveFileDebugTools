{
 "cells": [
  {
   "cell_type": "markdown",
   "metadata": {
    "pycharm": {
     "name": "#%%markdown\n"
    }
   },
   "source": [
    "\n",
    "[Answering my own question on physics stackexchange](https://physics.stackexchange.com/questions/217303/speed-of-spontaneous-mixing-of-different-gases)\n",
    "\n",
    "\n",
    "\n",
    "\n",
    "\n",
    "\n"
   ]
  },
  {
   "cell_type": "code",
   "execution_count": null,
   "metadata": {},
   "outputs": [],
   "source": [
    "# first we set up the module-level imports\n",
    "\n",
    "from collections import namedtuple\n",
    "from math import sqrt, pi\n",
    "from scipy.constants import Boltzmann, gas_constant, atomic_mass, Avogadro\n",
    "\n",
    "one_third_pi = pi/3\n",
    "\n",
    "# and set up our types\n",
    "\n",
    "Gas = namedtuple('Gas', 'formula moles')\n",
    "AtmosphericVolume = namedtuple('AtmosphericVolume', 'height width depth composition total_moles energy '\n",
    "                                                    'mean_particle_radius total_molar_mass')\n",
    "GasStats = namedtuple('GasStats', 'molar_mass atomic_mass specific_heat_capacity '\n",
    "                                  'thermal_speed_coefficient particle_radius_in_nm, molar_radius_squared ')\n"
   ]
  },
  {
   "cell_type": "code",
   "execution_count": null,
   "metadata": {
    "pycharm": {
     "name": "#%%\n"
    }
   },
   "outputs": [],
   "source": [
    "# for demonstration purposes, we'll just look at CO_2\n",
    "co2_specific_heat_capacity_J_per_g = 203\n",
    "co2_molar_mass = 44.0095 #g/mol\n",
    "co2_atomic_mass = co2_molar_mass * atomic_mass\n",
    "co2_thermal_speed_coefficient = sqrt(3*Boltzmann/co2_atomic_mass)\n",
    "\n",
    "\n",
    "CO2_Stats = GasStats(\n",
    "    molar_mass= co2_molar_mass,\n",
    "    atomic_mass=co2_atomic_mass,\n",
    "    specific_heat_capacity=co2_specific_heat_capacity_J_per_g,\n",
    "    thermal_speed_coefficient=co2_thermal_speed_coefficient,\n",
    "    particle_radius_in_nm=0.33,\n",
    "    molar_radius_squared=0.33**2 * Avogadro\n",
    ")\n",
    "\n",
    "\n",
    "def get_molar_surface_area(particle_radius_in_nm):\n",
    "    from scipy.constants import Avogadro\n",
    "    nm_to_m_conversion = 10**-9\n",
    "\n",
    "\n",
    "\n",
    "\n",
    "\n",
    "def volume_of_combined_cones(r1, r2, height):\n",
    "    cofactor = one_third_pi * height\n",
    "    sum = r1 * r1 + r2 * r2\n",
    "    return cofactor * sum\n",
    "\n",
    "\n",
    "def combine_atmospheric_volumes(volume_a:AtmosphericVolume, volume_b:AtmosphericVolume, time_in_seconds):\n",
    "    for gas in volume_a:\n",
    "        gas_stats = CO2_Stats\n",
    "\n",
    "        # get transiting particles a->b\n",
    "\n",
    "        # what proportion of the volume's gas contents is this gas?\n",
    "        gas_mass = gas_stats.molar_mass * gas.moles\n",
    "        proportional_mass = gas_mass / volume_a.total_molar_mass\n",
    "        gas_energy = volume_a.energy * proportional_mass\n",
    "\n",
    "        # given the mass of this gas contents, and the energy applied to it, what is the temperature of the gas?\n",
    "        # △T_k (0 to temperature in K) = mass * heat capacity/ joules\n",
    "        # https://sciencing.com/calculate-joules-heat-8205329.html\n",
    "\n",
    "        gas_temperature = gas_stats.specific_heat_capacity * gas_mass / gas_energy\n",
    "\n",
    "        gas_temperature_root = sqrt(gas_temperature)\n",
    "\n",
    "        RMS_thermal_speed = gas_stats.thermal_speed_coefficient * gas_temperature_root #m/s\n",
    "        distance_traveled_in_t = RMS_thermal_speed * time_in_seconds\n",
    "        max_proportion_of_volume_a_travelled = distance_traveled_in_t/volume_a.depth\n",
    "        particles_affected = gas.moles * max_proportion_of_volume_a_travelled\n",
    "\n",
    "        particles_transiting = particles_affected / 4\n",
    "\n",
    "        # get probability of collision\n",
    "        max_proportion_of_volume_b_travelled = distance_traveled_in_t/volume_b.depth\n",
    "\n",
    "\n",
    "\n",
    "\n",
    "\n",
    "        print(particles_transiting)\n"
   ]
  }
 ],
 "metadata": {
  "kernelspec": {
   "display_name": "Python 3",
   "language": "python",
   "name": "python3"
  },
  "language_info": {
   "codemirror_mode": {
    "name": "ipython",
    "version": 3
   },
   "file_extension": ".py",
   "mimetype": "text/x-python",
   "name": "python",
   "nbconvert_exporter": "python",
   "pygments_lexer": "ipython3",
   "version": "3.8.5"
  }
 },
 "nbformat": 4,
 "nbformat_minor": 1
}
